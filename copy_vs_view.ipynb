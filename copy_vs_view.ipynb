{
 "cells": [
  {
   "cell_type": "code",
   "execution_count": 6,
   "metadata": {},
   "outputs": [
    {
     "name": "stdout",
     "output_type": "stream",
     "text": [
      "2312371973792\n",
      "2312371973792\n",
      "2312371973696\n"
     ]
    }
   ],
   "source": [
    "import numpy as np\n",
    "\n",
    "arr = np.array([1, 3, 5, 7, 9], dtype = np.int32)\n",
    "view_arr = arr.view('bool') # view\n",
    "# view_arr = arr.view(np.bool) \n",
    "copy_arr = arr.copy() # copy \n",
    "\n",
    "# print memory address\n",
    "print( arr.__array_interface__['data'][0] )\n",
    "print( view_arr.__array_interface__['data'][0] )\n",
    "print( copy_arr.__array_interface__['data'][0] )"
   ]
  }
 ],
 "metadata": {
  "interpreter": {
   "hash": "666882299f72b5500f90659bdbcfbe7d80a257d8f305868945027121b9ccdc4f"
  },
  "kernelspec": {
   "display_name": "Python 3.8.8 ('OD')",
   "language": "python",
   "name": "python3"
  },
  "language_info": {
   "codemirror_mode": {
    "name": "ipython",
    "version": 3
   },
   "file_extension": ".py",
   "mimetype": "text/x-python",
   "name": "python",
   "nbconvert_exporter": "python",
   "pygments_lexer": "ipython3",
   "version": "3.8.8"
  },
  "orig_nbformat": 4
 },
 "nbformat": 4,
 "nbformat_minor": 2
}
