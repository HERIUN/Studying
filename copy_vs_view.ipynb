{
 "cells": [
  {
   "cell_type": "code",
   "execution_count": 2,
   "metadata": {},
   "outputs": [
    {
     "name": "stdout",
     "output_type": "stream",
     "text": [
      "2104404330480\n",
      "2104404330480\n",
      "2104404330736\n"
     ]
    }
   ],
   "source": [
    "import numpy as np\n",
    "\n",
    "arr = np.array([1, 3, 5, 7, 9], dtype = np.int32)\n",
    "view_arr = arr.view('bool') # view : share memory ex. reshape(), indexing.\n",
    "# view_arr = arr.view(np.bool) \n",
    "copy_arr = arr.copy() # copy : doesn't share memory ex. flatten(), astype()\n",
    "\n",
    "# print memory address\n",
    "print( arr.__array_interface__['data'][0] )\n",
    "print( view_arr.__array_interface__['data'][0] )\n",
    "print( copy_arr.__array_interface__['data'][0] )"
   ]
  },
  {
   "cell_type": "code",
   "execution_count": 3,
   "metadata": {},
   "outputs": [
    {
     "name": "stdout",
     "output_type": "stream",
     "text": [
      "False\n",
      "True\n"
     ]
    }
   ],
   "source": [
    "print(np.may_share_memory(arr, copy_arr))\n",
    "print(np.may_share_memory(arr, view_arr))"
   ]
  },
  {
   "cell_type": "code",
   "execution_count": 7,
   "metadata": {},
   "outputs": [
    {
     "data": {
      "text/plain": [
       "False"
      ]
     },
     "execution_count": 7,
     "metadata": {},
     "output_type": "execute_result"
    }
   ],
   "source": [
    "mat = np.array([[1,2,3],[4,5,6],[7,8,9]])\n",
    "z = mat.T\n",
    "print(z)\n",
    "print(z.flags['C_CONTIGUOUS'])"
   ]
  },
  {
   "cell_type": "code",
   "execution_count": 9,
   "metadata": {},
   "outputs": [
    {
     "name": "stderr",
     "output_type": "stream",
     "text": [
      "C:\\Users\\ehdrn\\AppData\\Local\\Temp/ipykernel_6648/3895034303.py:1: DeprecationWarning: Changing the shape of an F-contiguous array by descriptor assignment is deprecated. To maintain the Fortran contiguity of a multidimensional Fortran array, use 'a.T.view(...).T' instead\n",
      "  a = z.view('bool')\n"
     ]
    }
   ],
   "source": [
    "a = z.view('bool')"
   ]
  },
  {
   "cell_type": "code",
   "execution_count": 10,
   "metadata": {},
   "outputs": [
    {
     "data": {
      "text/plain": [
       "array([[ True,  True,  True],\n",
       "       [False, False, False],\n",
       "       [False, False, False],\n",
       "       [False, False, False],\n",
       "       [ True,  True,  True],\n",
       "       [False, False, False],\n",
       "       [False, False, False],\n",
       "       [False, False, False],\n",
       "       [ True,  True,  True],\n",
       "       [False, False, False],\n",
       "       [False, False, False],\n",
       "       [False, False, False]])"
      ]
     },
     "execution_count": 10,
     "metadata": {},
     "output_type": "execute_result"
    }
   ],
   "source": [
    "a"
   ]
  },
  {
   "cell_type": "code",
   "execution_count": 20,
   "metadata": {},
   "outputs": [
    {
     "name": "stdout",
     "output_type": "stream",
     "text": [
      "[[1, 2, 3], [4, 5, 6]]\n",
      "[[1, 2, 3], [4, 5, 6]]\n",
      "2104394079104 2104394078976\n",
      "2104394079104 2104394078976\n"
     ]
    }
   ],
   "source": [
    "x = [[1,2,3],[4,5,6]]\n",
    "z = x[:] # [id(x[0])] [id(x[1])]\n",
    "print(x,z, sep = '\\n')\n",
    "print(id(x[0]), id(x[1]))\n",
    "print(id(z[0]), id(z[1]))"
   ]
  },
  {
   "cell_type": "code",
   "execution_count": 21,
   "metadata": {},
   "outputs": [
    {
     "name": "stdout",
     "output_type": "stream",
     "text": [
      "[[1, 2, 3], [4, 5, 6]]\n",
      "[[7, 8, 9], [4, 5, 6]]\n",
      "2104394079104 2104394078976\n",
      "2104394569856 2104394078976\n"
     ]
    }
   ],
   "source": [
    "z[0] = [7,8,9] # different address\n",
    "print(x,z, sep = '\\n')\n",
    "print(id(x[0]), id(x[1]))\n",
    "print(id(z[0]), id(z[1]))"
   ]
  },
  {
   "cell_type": "code",
   "execution_count": 22,
   "metadata": {},
   "outputs": [
    {
     "name": "stdout",
     "output_type": "stream",
     "text": [
      "[[1, 2, 3], [100, 5, 6]]\n",
      "[[7, 8, 9], [100, 5, 6]]\n",
      "2104394079104 2104394078976\n",
      "2104394569856 2104394078976\n"
     ]
    }
   ],
   "source": [
    "z[1][0] = 100 # same address\n",
    "print(x,z, sep = '\\n')\n",
    "print(id(x[0]), id(x[1]))\n",
    "print(id(z[0]), id(z[1]))"
   ]
  }
 ],
 "metadata": {
  "interpreter": {
   "hash": "666882299f72b5500f90659bdbcfbe7d80a257d8f305868945027121b9ccdc4f"
  },
  "kernelspec": {
   "display_name": "Python 3.8.8 ('OD')",
   "language": "python",
   "name": "python3"
  },
  "language_info": {
   "codemirror_mode": {
    "name": "ipython",
    "version": 3
   },
   "file_extension": ".py",
   "mimetype": "text/x-python",
   "name": "python",
   "nbconvert_exporter": "python",
   "pygments_lexer": "ipython3",
   "version": "3.8.8"
  },
  "orig_nbformat": 4
 },
 "nbformat": 4,
 "nbformat_minor": 2
}
