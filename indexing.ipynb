{
 "cells": [
  {
   "cell_type": "code",
   "execution_count": 1,
   "metadata": {},
   "outputs": [
    {
     "name": "stdout",
     "output_type": "stream",
     "text": [
      "[[[ 0  1]\n",
      "  [ 2  3]\n",
      "  [ 4  5]]\n",
      "\n",
      " [[ 6  7]\n",
      "  [ 8  9]\n",
      "  [10 11]]]\n"
     ]
    }
   ],
   "source": [
    "import numpy as np\n",
    "a = np.arange(12).reshape(2,3,-1)\n",
    "print(a)"
   ]
  },
  {
   "cell_type": "code",
   "execution_count": 4,
   "metadata": {},
   "outputs": [
    {
     "data": {
      "text/plain": [
       "array([ 0,  3,  8, 10])"
      ]
     },
     "execution_count": 4,
     "metadata": {},
     "output_type": "execute_result"
    }
   ],
   "source": [
    "# make [0, 3, 8, 10]\n",
    "# 0 = [0,0,0]\n",
    "# 3 = [0,1,1]\n",
    "# 8 = [1,1,0]\n",
    "# 10 = [1,2,0] \n",
    "a[[0,0,1,1], [0,1,1,2], [0,1,0,0]]"
   ]
  },
  {
   "cell_type": "code",
   "execution_count": 5,
   "metadata": {},
   "outputs": [
    {
     "name": "stdout",
     "output_type": "stream",
     "text": [
      "[[ 0  1  2]\n",
      " [ 3  4  5]\n",
      " [ 6  7  8]\n",
      " [ 9 10 11]]\n"
     ]
    }
   ],
   "source": [
    "a = np.arange(12).reshape(4,-1)\n",
    "print(a)"
   ]
  },
  {
   "cell_type": "code",
   "execution_count": 12,
   "metadata": {},
   "outputs": [
    {
     "name": "stdout",
     "output_type": "stream",
     "text": [
      "[1 3 8 9]\n",
      "[[1 3]\n",
      " [8 9]]\n"
     ]
    }
   ],
   "source": [
    "# make [[1,3], [8,9]]\n",
    "# 1 = [0,1]\n",
    "# 3 = [1,0]\n",
    "# 8 = [2,2]\n",
    "# 9 = [3,0]\n",
    "print(a[[0,1,2,3], [1,0,2,0]])\n",
    "print(a[np.array([[0,1],[2,3]]), \n",
    "        np.array([[1,0],[2,0]])\n",
    "       ])"
   ]
  },
  {
   "cell_type": "code",
   "execution_count": 19,
   "metadata": {},
   "outputs": [
    {
     "name": "stdout",
     "output_type": "stream",
     "text": [
      "[1 3 4 6]\n",
      "[1 0 1 0 1 0]\n",
      "[False  True False  True False  True]\n",
      "[2 4 6]\n",
      "[2 1 2 1 2 1]\n"
     ]
    }
   ],
   "source": [
    "a = np.arange(1,7)\n",
    "b = np.array([True, False, True, True, False, True])\n",
    "print(a[b])\n",
    "print(a%2)\n",
    "print(a%2==0)\n",
    "print(a[a%2==0]) # boolean array (dtype=bool)\n",
    "print(a[a%2])    # index array (dtype=int)"
   ]
  },
  {
   "cell_type": "code",
   "execution_count": 20,
   "metadata": {},
   "outputs": [
    {
     "name": "stdout",
     "output_type": "stream",
     "text": [
      "[4 2 9 5 0 8 1 6 3 7]\n",
      "[4 2 9 0 8 6 3]\n",
      "[4 2 9 0 8 6 3]\n"
     ]
    }
   ],
   "source": [
    "a = np.random.permutation(10)\n",
    "print(a)\n",
    "print( a[np.logical_or(a%3==0, a%2==0)] ) # logical_and === &, logical_not === ~\n",
    "print( a[(a%3==0) | (a%2==0)] )"
   ]
  },
  {
   "cell_type": "code",
   "execution_count": 21,
   "metadata": {},
   "outputs": [
    {
     "name": "stdout",
     "output_type": "stream",
     "text": [
      "[4 2 9 5 0 8 1 6 3 7]\n",
      "[ 4  2 -1  5 -1  8  1 -1 -1  7]\n"
     ]
    }
   ],
   "source": [
    "print(a)\n",
    "a[a%3==0] = -1\n",
    "print(a)"
   ]
  },
  {
   "cell_type": "code",
   "execution_count": 22,
   "metadata": {},
   "outputs": [
    {
     "name": "stdout",
     "output_type": "stream",
     "text": [
      "[[ 1  3]\n",
      " [ 5  7]\n",
      " [ 9 11]]\n"
     ]
    }
   ],
   "source": [
    "b = np.arange(1,12,2).reshape(3,-1)\n",
    "print(b)"
   ]
  },
  {
   "cell_type": "code",
   "execution_count": 24,
   "metadata": {},
   "outputs": [
    {
     "name": "stdout",
     "output_type": "stream",
     "text": [
      "[ 3  7 11]\n",
      "[[ 3]\n",
      " [ 7]\n",
      " [11]]\n"
     ]
    }
   ],
   "source": [
    "print(b[:,-1])\n",
    "print(b[:,[-1]]) # array를 index로 주면 원본 shape과 똑같음"
   ]
  },
  {
   "cell_type": "code",
   "execution_count": 35,
   "metadata": {},
   "outputs": [
    {
     "name": "stdout",
     "output_type": "stream",
     "text": [
      "[[[ 0  1  2  3]\n",
      "  [ 4  5  6  7]\n",
      "  [ 8  9 10 11]]\n",
      "\n",
      " [[12 13 14 15]\n",
      "  [16 17 18 19]\n",
      "  [20 21 22 23]]]\n"
     ]
    }
   ],
   "source": [
    "c = np.arange(24).reshape(2,3,4)\n",
    "print(c)"
   ]
  },
  {
   "cell_type": "code",
   "execution_count": 37,
   "metadata": {},
   "outputs": [
    {
     "name": "stdout",
     "output_type": "stream",
     "text": [
      "[[ 8  9 10 11]\n",
      " [20 21 22 23]]\n"
     ]
    }
   ],
   "source": [
    "print(c[:,-1]) # same as c[:,-1,:]"
   ]
  },
  {
   "cell_type": "code",
   "execution_count": 32,
   "metadata": {},
   "outputs": [
    {
     "name": "stdout",
     "output_type": "stream",
     "text": [
      "[[ 1  3  5]\n",
      " [ 7  9 11]]\n",
      "[[[ 0]\n",
      "  [ 2]\n",
      "  [ 4]]\n",
      "\n",
      " [[ 6]\n",
      "  [ 8]\n",
      "  [10]]]\n"
     ]
    }
   ],
   "source": [
    "print(c[...,-1])\n",
    "print(c[...,:1]) # :1 이 slice 개념이 있으므로 배열임. 그래서 위와는 다르게 차원 줄어들지 않음"
   ]
  },
  {
   "cell_type": "code",
   "execution_count": 33,
   "metadata": {},
   "outputs": [
    {
     "name": "stdout",
     "output_type": "stream",
     "text": [
      "[[2 3]]\n",
      "[[[2 3]\n",
      "  [4 5]]]\n"
     ]
    }
   ],
   "source": [
    "print(c[[0],1])\n",
    "print(c[[0],1:])"
   ]
  },
  {
   "cell_type": "code",
   "execution_count": 38,
   "metadata": {},
   "outputs": [
    {
     "name": "stdout",
     "output_type": "stream",
     "text": [
      "[[ 0 -1  4]\n",
      " [-2  3  2]\n",
      " [ 1 -2 -1]\n",
      " [-4  3 -2]]\n"
     ]
    }
   ],
   "source": [
    "aN3 = np.array([[0,-1,4],[-2,3,2],[1,-2,-1],[-4,3,-2]])\n",
    "print(aN3)"
   ]
  },
  {
   "cell_type": "code",
   "execution_count": 39,
   "metadata": {},
   "outputs": [
    {
     "data": {
      "text/plain": [
       "array([[-1,  0,  4],\n",
       "       [ 3, -2,  2],\n",
       "       [-2,  1, -1],\n",
       "       [ 3, -4, -2]])"
      ]
     },
     "execution_count": 39,
     "metadata": {},
     "output_type": "execute_result"
    }
   ],
   "source": [
    "aN3[:, [1,0,2]] # 인덱스 순서 바꾸기"
   ]
  },
  {
   "cell_type": "code",
   "execution_count": null,
   "metadata": {},
   "outputs": [],
   "source": [
    "aN3[aN3[:,0] < 0] # 모든행의 첫번째원소에 대하여 0 미만이면, 해당 행을 살려라"
   ]
  }
 ],
 "metadata": {
  "interpreter": {
   "hash": "666882299f72b5500f90659bdbcfbe7d80a257d8f305868945027121b9ccdc4f"
  },
  "kernelspec": {
   "display_name": "Python 3.8.8 ('OD')",
   "language": "python",
   "name": "python3"
  },
  "language_info": {
   "codemirror_mode": {
    "name": "ipython",
    "version": 3
   },
   "file_extension": ".py",
   "mimetype": "text/x-python",
   "name": "python",
   "nbconvert_exporter": "python",
   "pygments_lexer": "ipython3",
   "version": "3.8.8"
  },
  "orig_nbformat": 4
 },
 "nbformat": 4,
 "nbformat_minor": 2
}
