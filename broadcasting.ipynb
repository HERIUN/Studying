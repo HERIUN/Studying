{
 "cells": [
  {
   "cell_type": "markdown",
   "metadata": {},
   "source": [
    "# Broadcasting\n",
    "- shape가 다른 배열끼리 연산시(즉, element-wise 연산 불가시) 두 배열의 크기를 동일하게 만들어 연산가능하도록 하는 것.\n",
    "\n",
    "- ex1. (5,`1`) + (`1`,3) = (5,3)\n",
    "- ex2. (2,3) + (3,)  = (2,3) + (`2`,3) = (2,3)\n",
    "- ex3. (5,1) + (3,) = (5,`1`) + (`5`,3) = (5,3) \n"
   ]
  },
  {
   "cell_type": "code",
   "execution_count": 6,
   "metadata": {},
   "outputs": [
    {
     "name": "stdout",
     "output_type": "stream",
     "text": [
      "(4, 1) (3,) (4, 3)\n",
      "[[ 6  7  8]\n",
      " [ 7  8  9]\n",
      " [ 8  9 10]\n",
      " [ 9 10 11]]\n"
     ]
    }
   ],
   "source": [
    "import numpy as np\n",
    "\n",
    "c = np.array([[1], [2], [3], [4]])\n",
    "d = np.array([5,6,7])\n",
    "print(c.shape, d.shape, (c+d).shape)\n",
    "print(c+d)"
   ]
  }
 ],
 "metadata": {
  "interpreter": {
   "hash": "666882299f72b5500f90659bdbcfbe7d80a257d8f305868945027121b9ccdc4f"
  },
  "kernelspec": {
   "display_name": "Python 3.8.8 ('OD')",
   "language": "python",
   "name": "python3"
  },
  "language_info": {
   "codemirror_mode": {
    "name": "ipython",
    "version": 3
   },
   "file_extension": ".py",
   "mimetype": "text/x-python",
   "name": "python",
   "nbconvert_exporter": "python",
   "pygments_lexer": "ipython3",
   "version": "3.8.8"
  },
  "orig_nbformat": 4
 },
 "nbformat": 4,
 "nbformat_minor": 2
}
